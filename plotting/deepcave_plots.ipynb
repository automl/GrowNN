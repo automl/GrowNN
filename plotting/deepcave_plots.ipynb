{
 "cells": [
  {
   "cell_type": "code",
   "execution_count": 5,
   "metadata": {},
   "outputs": [],
   "source": [
    "from deepcave.plugins.hyperparameter.importances import Importances\n",
    "from deepcave.runs.converters.smac3v1 import SMAC3v1Run\n",
    "from pathlib import Path\n"
   ]
  },
  {
   "cell_type": "markdown",
   "metadata": {},
   "source": [
    "# Load Run that allows 20 layers"
   ]
  },
  {
   "cell_type": "code",
   "execution_count": 6,
   "metadata": {},
   "outputs": [
    {
     "ename": "NameError",
     "evalue": "name 'SMAC3v2Run' is not defined",
     "output_type": "error",
     "traceback": [
      "\u001b[0;31m---------------------------------------------------------------------------\u001b[0m",
      "\u001b[0;31mNameError\u001b[0m                                 Traceback (most recent call last)",
      "Cell \u001b[0;32mIn[6], line 1\u001b[0m\n\u001b[0;32m----> 1\u001b[0m run \u001b[38;5;241m=\u001b[39m \u001b[43mSMAC3v2Run\u001b[49m\u001b[38;5;241m.\u001b[39mfrom_path(Path(\u001b[38;5;124m\"\u001b[39m\u001b[38;5;124m/Users/lukasfehring/Desktop/MasterThesis/architectures-in-rl/smac3_output/black_box_max_20_layers/0\u001b[39m\u001b[38;5;124m\"\u001b[39m))\n",
      "\u001b[0;31mNameError\u001b[0m: name 'SMAC3v2Run' is not defined"
     ]
    }
   ],
   "source": [
    "run = SMAC3v2Run.from_path(Path(\"/Users/lukasfehring/Desktop/MasterThesis/architectures-in-rl/smac3_output/black_box_max_20_layers/0\"))"
   ]
  },
  {
   "cell_type": "code",
   "execution_count": null,
   "metadata": {},
   "outputs": [],
   "source": [
    "objective_id = run.get_objective_ids()[1]\n",
    "budget_ids = run.get_budget_ids()\n",
    "plugin = Importances()\n",
    "inputs = plugin.generate_inputs(\n",
    "    hyperparameter_names=run.configspace.get_hyperparameter_names(),\n",
    "    objective_id=objective_id,\n",
    "    budget_ids=budget_ids,\n",
    "    method = \"global\",\n",
    "    n_hps=6,\n",
    "    n_trees = 10\n",
    ")"
   ]
  },
  {
   "cell_type": "code",
   "execution_count": null,
   "metadata": {},
   "outputs": [
    {
     "ename": "ZeroDivisionError",
     "evalue": "float division by zero",
     "output_type": "error",
     "traceback": [
      "\u001b[0;31m---------------------------------------------------------------------------\u001b[0m",
      "\u001b[0;31mZeroDivisionError\u001b[0m                         Traceback (most recent call last)",
      "Cell \u001b[0;32mIn[4], line 1\u001b[0m\n\u001b[0;32m----> 1\u001b[0m outputs \u001b[38;5;241m=\u001b[39m \u001b[43mplugin\u001b[49m\u001b[38;5;241;43m.\u001b[39;49m\u001b[43mgenerate_outputs\u001b[49m\u001b[43m(\u001b[49m\u001b[43mrun\u001b[49m\u001b[43m,\u001b[49m\u001b[43m \u001b[49m\u001b[43minputs\u001b[49m\u001b[43m)\u001b[49m\n",
      "File \u001b[0;32m/opt/anaconda3/envs/deepcave/lib/python3.9/site-packages/deepcave/plugins/__init__.py:1459\u001b[0m, in \u001b[0;36mPlugin.generate_outputs\u001b[0;34m(cls, runs, inputs)\u001b[0m\n\u001b[1;32m   1457\u001b[0m \u001b[38;5;28;01mif\u001b[39;00m \u001b[38;5;28mcls\u001b[39m\u001b[38;5;241m.\u001b[39mactivate_run_selection:\n\u001b[1;32m   1458\u001b[0m     \u001b[38;5;28;01mif\u001b[39;00m \u001b[38;5;28misinstance\u001b[39m(runs, AbstractRun):\n\u001b[0;32m-> 1459\u001b[0m         \u001b[38;5;28;01mreturn\u001b[39;00m \u001b[38;5;28;43mcls\u001b[39;49m\u001b[38;5;241;43m.\u001b[39;49m\u001b[43mprocess\u001b[49m\u001b[43m(\u001b[49m\u001b[43mruns\u001b[49m\u001b[43m,\u001b[49m\u001b[43m \u001b[49m\u001b[43minputs\u001b[49m\u001b[43m)\u001b[49m\n\u001b[1;32m   1460\u001b[0m     \u001b[38;5;28;01melse\u001b[39;00m:\n\u001b[1;32m   1461\u001b[0m         \u001b[38;5;28;01mraise\u001b[39;00m \u001b[38;5;167;01mRuntimeError\u001b[39;00m(\n\u001b[1;32m   1462\u001b[0m             \u001b[38;5;124m\"\u001b[39m\u001b[38;5;124mThe method `generate_outputs` accepts only one run because\u001b[39m\u001b[38;5;124m\"\u001b[39m\n\u001b[1;32m   1463\u001b[0m             \u001b[38;5;124m\"\u001b[39m\u001b[38;5;124m`activate_run_selection` is set.\u001b[39m\u001b[38;5;124m\"\u001b[39m\n\u001b[1;32m   1464\u001b[0m         )\n",
      "File \u001b[0;32m/opt/anaconda3/envs/deepcave/lib/python3.9/site-packages/deepcave/plugins/hyperparameter/importances.py:337\u001b[0m, in \u001b[0;36mImportances.process\u001b[0;34m(run, inputs)\u001b[0m\n\u001b[1;32m    335\u001b[0m \u001b[38;5;28;01mfor\u001b[39;00m budget_id, budget \u001b[38;5;129;01min\u001b[39;00m \u001b[38;5;28menumerate\u001b[39m(budgets):\n\u001b[1;32m    336\u001b[0m     \u001b[38;5;28;01massert\u001b[39;00m \u001b[38;5;28misinstance\u001b[39m(budget, (\u001b[38;5;28mint\u001b[39m, \u001b[38;5;28mfloat\u001b[39m))\n\u001b[0;32m--> 337\u001b[0m     \u001b[43mevaluator\u001b[49m\u001b[38;5;241;43m.\u001b[39;49m\u001b[43mcalculate\u001b[49m\u001b[43m(\u001b[49m\u001b[43mobjective\u001b[49m\u001b[43m,\u001b[49m\u001b[43m \u001b[49m\u001b[43mbudget\u001b[49m\u001b[43m,\u001b[49m\u001b[43m \u001b[49m\u001b[43mn_trees\u001b[49m\u001b[38;5;241;43m=\u001b[39;49m\u001b[43mn_trees\u001b[49m\u001b[43m,\u001b[49m\u001b[43m \u001b[49m\u001b[43mseed\u001b[49m\u001b[38;5;241;43m=\u001b[39;49m\u001b[38;5;241;43m0\u001b[39;49m\u001b[43m)\u001b[49m\n\u001b[1;32m    339\u001b[0m     importances \u001b[38;5;241m=\u001b[39m evaluator\u001b[38;5;241m.\u001b[39mget_importances(hp_names)\n\u001b[1;32m    340\u001b[0m     data[budget_id] \u001b[38;5;241m=\u001b[39m importances\n",
      "File \u001b[0;32m/opt/anaconda3/envs/deepcave/lib/python3.9/site-packages/deepcave/evaluators/fanova.py:88\u001b[0m, in \u001b[0;36mfANOVA.calculate\u001b[0;34m(self, objectives, budget, n_trees, seed)\u001b[0m\n\u001b[1;32m     85\u001b[0m \u001b[38;5;28mself\u001b[39m\u001b[38;5;241m.\u001b[39mn_trees \u001b[38;5;241m=\u001b[39m n_trees\n\u001b[1;32m     87\u001b[0m \u001b[38;5;66;03m# Get data\u001b[39;00m\n\u001b[0;32m---> 88\u001b[0m df \u001b[38;5;241m=\u001b[39m \u001b[38;5;28;43mself\u001b[39;49m\u001b[38;5;241;43m.\u001b[39;49m\u001b[43mrun\u001b[49m\u001b[38;5;241;43m.\u001b[39;49m\u001b[43mget_encoded_data\u001b[49m\u001b[43m(\u001b[49m\n\u001b[1;32m     89\u001b[0m \u001b[43m    \u001b[49m\u001b[43mobjectives\u001b[49m\u001b[43m,\u001b[49m\u001b[43m \u001b[49m\u001b[43mbudget\u001b[49m\u001b[43m,\u001b[49m\u001b[43m \u001b[49m\u001b[43mspecific\u001b[49m\u001b[38;5;241;43m=\u001b[39;49m\u001b[38;5;28;43;01mTrue\u001b[39;49;00m\u001b[43m,\u001b[49m\u001b[43m \u001b[49m\u001b[43minclude_combined_cost\u001b[49m\u001b[38;5;241;43m=\u001b[39;49m\u001b[38;5;28;43;01mTrue\u001b[39;49;00m\n\u001b[1;32m     90\u001b[0m \u001b[43m\u001b[49m\u001b[43m)\u001b[49m\n\u001b[1;32m     91\u001b[0m X \u001b[38;5;241m=\u001b[39m df[\u001b[38;5;28mself\u001b[39m\u001b[38;5;241m.\u001b[39mhp_names]\u001b[38;5;241m.\u001b[39mto_numpy()\n\u001b[1;32m     92\u001b[0m \u001b[38;5;66;03m# Combined cost name includes the cost of all selected objectives\u001b[39;00m\n",
      "File \u001b[0;32m/opt/anaconda3/envs/deepcave/lib/python3.9/site-packages/deepcave/runs/__init__.py:1309\u001b[0m, in \u001b[0;36mAbstractRun.get_encoded_data\u001b[0;34m(self, objectives, budget, seed, statuses, specific, include_config_ids, include_combined_cost)\u001b[0m\n\u001b[1;32m   1307\u001b[0m \u001b[38;5;66;03m# Add combined cost\u001b[39;00m\n\u001b[1;32m   1308\u001b[0m \u001b[38;5;28;01mif\u001b[39;00m include_combined_cost:\n\u001b[0;32m-> 1309\u001b[0m     y \u001b[38;5;241m+\u001b[39m\u001b[38;5;241m=\u001b[39m [\u001b[38;5;28;43mself\u001b[39;49m\u001b[38;5;241;43m.\u001b[39;49m\u001b[43mmerge_costs\u001b[49m\u001b[43m(\u001b[49m\u001b[43mcosts\u001b[49m\u001b[43m,\u001b[49m\u001b[43m \u001b[49m\u001b[43mobjectives\u001b[49m\u001b[43m)\u001b[49m]\n\u001b[1;32m   1311\u001b[0m x_set\u001b[38;5;241m.\u001b[39mappend(x)\n\u001b[1;32m   1312\u001b[0m y_set\u001b[38;5;241m.\u001b[39mappend(y)\n",
      "File \u001b[0;32m/opt/anaconda3/envs/deepcave/lib/python3.9/site-packages/deepcave/runs/__init__.py:1036\u001b[0m, in \u001b[0;36mAbstractRun.merge_costs\u001b[0;34m(self, costs, objectives)\u001b[0m\n\u001b[1;32m   1034\u001b[0m a \u001b[38;5;241m=\u001b[39m cost \u001b[38;5;241m-\u001b[39m objective\u001b[38;5;241m.\u001b[39mlower\n\u001b[1;32m   1035\u001b[0m b \u001b[38;5;241m=\u001b[39m objective\u001b[38;5;241m.\u001b[39mupper \u001b[38;5;241m-\u001b[39m objective\u001b[38;5;241m.\u001b[39mlower\n\u001b[0;32m-> 1036\u001b[0m normalized_cost \u001b[38;5;241m=\u001b[39m \u001b[43ma\u001b[49m\u001b[43m \u001b[49m\u001b[38;5;241;43m/\u001b[39;49m\u001b[43m \u001b[49m\u001b[43mb\u001b[49m\n\u001b[1;32m   1038\u001b[0m \u001b[38;5;66;03m# The lower is optimized\u001b[39;00m\n\u001b[1;32m   1039\u001b[0m \u001b[38;5;66;03m# So the normalized cost needs to be flipped\u001b[39;00m\n\u001b[1;32m   1040\u001b[0m \u001b[38;5;28;01mif\u001b[39;00m objective\u001b[38;5;241m.\u001b[39moptimize \u001b[38;5;241m==\u001b[39m \u001b[38;5;124m\"\u001b[39m\u001b[38;5;124mupper\u001b[39m\u001b[38;5;124m\"\u001b[39m:\n",
      "\u001b[0;31mZeroDivisionError\u001b[0m: float division by zero"
     ]
    }
   ],
   "source": [
    "outputs = plugin.generate_outputs(run, inputs)"
   ]
  },
  {
   "cell_type": "code",
   "execution_count": null,
   "metadata": {},
   "outputs": [],
   "source": []
  },
  {
   "cell_type": "code",
   "execution_count": null,
   "metadata": {},
   "outputs": [],
   "source": []
  }
 ],
 "metadata": {
  "kernelspec": {
   "display_name": "deepcave",
   "language": "python",
   "name": "python3"
  },
  "language_info": {
   "codemirror_mode": {
    "name": "ipython",
    "version": 3
   },
   "file_extension": ".py",
   "mimetype": "text/x-python",
   "name": "python",
   "nbconvert_exporter": "python",
   "pygments_lexer": "ipython3",
   "version": "3.9.19"
  }
 },
 "nbformat": 4,
 "nbformat_minor": 2
}
