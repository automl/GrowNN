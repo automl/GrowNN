{
 "cells": [
  {
   "cell_type": "markdown",
   "metadata": {},
   "source": [
    "# Budget Correlations\n",
    "to generate the plots below, we utilize the library deepcave. Unfortunately it is incompatible with our processing environment, therefore a new environment has to be created, and used to exectue this code as explained in [the DeepCave documentation](https://automl.github.io/DeepCAVE/main/installation.html)"
   ]
  },
  {
   "cell_type": "code",
   "execution_count": 6,
   "metadata": {},
   "outputs": [],
   "source": [
    "from deepcave.runs.converters.smac3v2 import SMAC3v2Run\n",
    "from pathlib import Path\n",
    "from collections import defaultdict\n",
    "from deepcave.runs import Status\n",
    "import pandas as pd\n",
    "from scipy import stats"
   ]
  },
  {
   "cell_type": "code",
   "execution_count": 7,
   "metadata": {},
   "outputs": [],
   "source": [
    "def get_budget_correlations(run: SMAC3v2Run, objective_id: int):\n",
    "    budget_ids = run.get_budget_ids(include_combined=False)\n",
    "\n",
    "    # Add symmetric correlations; table ready\n",
    "    correlations_symmetric = defaultdict(dict)\n",
    "\n",
    "    correlations = defaultdict(dict)\n",
    "    for budget1_id in budget_ids:\n",
    "        budget1 = run.get_budget(budget1_id)\n",
    "        budget1_readable = run.get_budget(budget1_id, human=True)\n",
    "\n",
    "        for budget2_id in budget_ids:\n",
    "            budget2 = run.get_budget(budget2_id)\n",
    "            budget2_readable = run.get_budget(budget2_id, human=True)\n",
    "\n",
    "            config_ids1 = run.get_configs(budget1, statuses=[Status.SUCCESS]).keys()\n",
    "            config_ids2 = run.get_configs(budget2, statuses=[Status.SUCCESS]).keys()\n",
    "\n",
    "            # Combine config ids\n",
    "            # So it is guaranteed that there is the same number of configs for each budget\n",
    "            config_ids = set(config_ids1) & set(config_ids2)\n",
    "\n",
    "            c1, c2 = [], []\n",
    "            for config_id in config_ids:\n",
    "                c1 += [\n",
    "                    run.get_avg_costs(config_id, budget1, statuses=[Status.SUCCESS])[0][\n",
    "                        objective_id\n",
    "                    ]\n",
    "                ]\n",
    "                c2 += [\n",
    "                    run.get_avg_costs(config_id, budget2, statuses=[Status.SUCCESS])[0][\n",
    "                        objective_id\n",
    "                    ]\n",
    "                ]\n",
    "\n",
    "            correlation = round(stats.spearmanr(c1, c2).correlation, 2)\n",
    "            correlations_symmetric[\"Budget\"][budget2_readable] = budget2_readable  # type: ignore # noqa: E501\n",
    "            correlations_symmetric[budget1_readable][budget2_readable] = correlation  # type: ignore # noqa: E501\n",
    "\n",
    "            # Exclude if budget2 is higher than budget1\n",
    "            if budget2 > budget1:\n",
    "                continue\n",
    "\n",
    "            correlations[budget1_readable][budget2_readable] = correlation  # type: ignore\n",
    "    return correlations, correlations_symmetric"
   ]
  },
  {
   "cell_type": "code",
   "execution_count": 8,
   "metadata": {},
   "outputs": [],
   "source": [
    "experiments ={\n",
    "    1: \"2 layers, mid\",\n",
    "    2: \"4 layers, mid\",\n",
    "    4: \"4 layers, end\",\n",
    "}\n",
    "dataframes: dict = {}"
   ]
  },
  {
   "cell_type": "code",
   "execution_count": 9,
   "metadata": {},
   "outputs": [
    {
     "name": "stderr",
     "output_type": "stream",
     "text": [
      "/opt/anaconda3/envs/DeepCave/lib/python3.9/site-packages/ConfigSpace/configuration_space.py:1052: UserWarning: The field 'default' should be 'default_value' !\n",
      "Found in item {'name': 'batch_size', 'choices': [32, 64, 128, 256], 'weights': None}\n",
      "  return decoder(item, cs, _dec)\n",
      "/opt/anaconda3/envs/DeepCave/lib/python3.9/site-packages/ConfigSpace/configuration_space.py:1052: UserWarning: The field 'default' should be 'default_value' !\n",
      "Found in item {'name': 'ent_coef', 'log': False, 'lower': 0.0, 'upper': 0.3}\n",
      "  return decoder(item, cs, _dec)\n",
      "/opt/anaconda3/envs/DeepCave/lib/python3.9/site-packages/ConfigSpace/configuration_space.py:1052: UserWarning: The field 'default' should be 'default_value' !\n",
      "Found in item {'name': 'learning_rate', 'log': True, 'lower': 0.0001, 'upper': 0.01}\n",
      "  return decoder(item, cs, _dec)\n",
      "/opt/anaconda3/envs/DeepCave/lib/python3.9/site-packages/ConfigSpace/configuration_space.py:1052: UserWarning: The field 'default' should be 'default_value' !\n",
      "Found in item {'name': 'n_epochs', 'log': False, 'lower': 5, 'upper': 20}\n",
      "  return decoder(item, cs, _dec)\n",
      "/opt/anaconda3/envs/DeepCave/lib/python3.9/site-packages/ConfigSpace/configuration_space.py:1052: UserWarning: The field 'default' should be 'default_value' !\n",
      "Found in item {'name': 'batch_size', 'choices': [32, 64, 128, 256], 'weights': None}\n",
      "  return decoder(item, cs, _dec)\n",
      "/opt/anaconda3/envs/DeepCave/lib/python3.9/site-packages/ConfigSpace/configuration_space.py:1052: UserWarning: The field 'default' should be 'default_value' !\n",
      "Found in item {'name': 'ent_coef', 'log': False, 'lower': 0.0, 'upper': 0.3}\n",
      "  return decoder(item, cs, _dec)\n",
      "/opt/anaconda3/envs/DeepCave/lib/python3.9/site-packages/ConfigSpace/configuration_space.py:1052: UserWarning: The field 'default' should be 'default_value' !\n",
      "Found in item {'name': 'learning_rate', 'log': True, 'lower': 0.0001, 'upper': 0.01}\n",
      "  return decoder(item, cs, _dec)\n",
      "/opt/anaconda3/envs/DeepCave/lib/python3.9/site-packages/ConfigSpace/configuration_space.py:1052: UserWarning: The field 'default' should be 'default_value' !\n",
      "Found in item {'name': 'n_epochs', 'log': False, 'lower': 5, 'upper': 20}\n",
      "  return decoder(item, cs, _dec)\n",
      "/opt/anaconda3/envs/DeepCave/lib/python3.9/site-packages/ConfigSpace/configuration_space.py:1052: UserWarning: The field 'default' should be 'default_value' !\n",
      "Found in item {'name': 'batch_size', 'choices': [32, 64, 128, 256], 'weights': None}\n",
      "  return decoder(item, cs, _dec)\n",
      "/opt/anaconda3/envs/DeepCave/lib/python3.9/site-packages/ConfigSpace/configuration_space.py:1052: UserWarning: The field 'default' should be 'default_value' !\n",
      "Found in item {'name': 'ent_coef', 'log': False, 'lower': 0.0, 'upper': 0.3}\n",
      "  return decoder(item, cs, _dec)\n",
      "/opt/anaconda3/envs/DeepCave/lib/python3.9/site-packages/ConfigSpace/configuration_space.py:1052: UserWarning: The field 'default' should be 'default_value' !\n",
      "Found in item {'name': 'learning_rate', 'log': True, 'lower': 0.0001, 'upper': 0.01}\n",
      "  return decoder(item, cs, _dec)\n",
      "/opt/anaconda3/envs/DeepCave/lib/python3.9/site-packages/ConfigSpace/configuration_space.py:1052: UserWarning: The field 'default' should be 'default_value' !\n",
      "Found in item {'name': 'n_epochs', 'log': False, 'lower': 5, 'upper': 20}\n",
      "  return decoder(item, cs, _dec)\n"
     ]
    }
   ],
   "source": [
    "for run_id, experiment in experiments.items():\n",
    "    run = SMAC3v2Run.from_path(Path(f\"fehring_growing_nn_new_seeded/increase_difficulty_n2d/{run_id}/0\"))\n",
    "    correlations, correlations_symmetric = get_budget_correlations(run, 0)\n",
    "    del correlations_symmetric[\"Budget\"]\n",
    "    dataframes[experiment] = pd.DataFrame(correlations_symmetric)"
   ]
  },
  {
   "cell_type": "code",
   "execution_count": 10,
   "metadata": {},
   "outputs": [
    {
     "name": "stdout",
     "output_type": "stream",
     "text": [
      "2 layers, mid\n",
      "\\begin{table}\n",
      "\\caption{Correlation Matrix for 2 layers, mid}\n",
      "\\begin{tabular}{lrr}\n",
      "\\toprule\n",
      " & Budget 1 & Budget 2 \\\\\n",
      "\\midrule\n",
      "Budget 1 & 1.00 & 0.54 \\\\\n",
      "Budget 2 & 0.54 & 1.00 \\\\\n",
      "\\bottomrule\n",
      "\\end{tabular}\n",
      "\\end{table}\n",
      "\n",
      "4 layers, mid\n",
      "\\begin{table}\n",
      "\\caption{Correlation Matrix for 4 layers, mid}\n",
      "\\begin{tabular}{lrrrr}\n",
      "\\toprule\n",
      " & Budget 1 & Budget 2 & Budget 3 & Budget 4 \\\\\n",
      "\\midrule\n",
      "Budget 1 & 1.00 & 0.67 & 0.67 & 0.45 \\\\\n",
      "Budget 2 & 0.67 & 1.00 & 0.91 & 0.70 \\\\\n",
      "Budget 3 & 0.67 & 0.91 & 1.00 & 0.74 \\\\\n",
      "Budget 4 & 0.45 & 0.70 & 0.74 & 1.00 \\\\\n",
      "\\bottomrule\n",
      "\\end{tabular}\n",
      "\\end{table}\n",
      "\n",
      "4 layers, end\n",
      "\\begin{table}\n",
      "\\caption{Correlation Matrix for 4 layers, end}\n",
      "\\begin{tabular}{lrrrr}\n",
      "\\toprule\n",
      " & Budget 1 & Budget 2 & Budget 3 & Budget 4 \\\\\n",
      "\\midrule\n",
      "Budget 1 & 1.00 & 0.67 & 0.39 & 0.51 \\\\\n",
      "Budget 2 & 0.67 & 1.00 & 0.49 & 0.62 \\\\\n",
      "Budget 3 & 0.39 & 0.49 & 1.00 & 0.57 \\\\\n",
      "Budget 4 & 0.51 & 0.62 & 0.57 & 1.00 \\\\\n",
      "\\bottomrule\n",
      "\\end{tabular}\n",
      "\\end{table}\n",
      "\n"
     ]
    }
   ],
   "source": [
    "for experiment, df in dataframes.items():\n",
    "    df.index.name = \"Budget\"\n",
    "    df.columns.name = \"Budget\"\n",
    "    if len(df) == 2:\n",
    "        df.index = [\"Budget 1\", \"Budget 2\"]\n",
    "        df.columns = [\"Budget 1\", \"Budget 2\"]\n",
    "    if len(df) == 4:\n",
    "        df.index = [\"Budget 1\", \"Budget 2\", \"Budget 3\", \"Budget 4\"]\n",
    "        df.columns = [\"Budget 1\", \"Budget 2\", \"Budget 3\", \"Budget 4\"]\n",
    "    latex_table = df.to_latex(index=True, header=True, float_format=\"%.2f\", caption=f\"Correlation Matrix for {experiment}\")\n",
    "    print(experiment)\n",
    "    print(latex_table)"
   ]
  },
  {
   "cell_type": "code",
   "execution_count": null,
   "metadata": {},
   "outputs": [],
   "source": []
  }
 ],
 "metadata": {
  "kernelspec": {
   "display_name": "rl-architectures",
   "language": "python",
   "name": "python3"
  },
  "language_info": {
   "codemirror_mode": {
    "name": "ipython",
    "version": 3
   },
   "file_extension": ".py",
   "mimetype": "text/x-python",
   "name": "python",
   "nbconvert_exporter": "python",
   "pygments_lexer": "ipython3",
   "version": "3.9.19"
  }
 },
 "nbformat": 4,
 "nbformat_minor": 2
}
