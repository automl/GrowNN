{
 "cells": [
  {
   "cell_type": "code",
   "execution_count": 14,
   "metadata": {},
   "outputs": [],
   "source": [
    "from deepcave.runs.converters.smac3v2 import SMAC3v2Run\n",
    "from deepcave.plugins.hyperparameter.importances import Importances\n",
    "from matplotlib import pyplot as plt\n",
    "import numpy as np"
   ]
  },
  {
   "cell_type": "code",
   "execution_count": 15,
   "metadata": {},
   "outputs": [],
   "source": [
    "def evaluate_feature_importance(path_to_smac_run:str, objective_id:int):\n",
    "    run = SMAC3v2Run.from_path(path_to_smac_run)\n",
    "    objective_id = run.get_objective_ids()[objective_id]\n",
    "    budget_ids = run.get_budget_ids()\n",
    "\n",
    "    # Instantiate the plugin\n",
    "    plugin = Importances()\n",
    "    inputs = plugin.generate_inputs(\n",
    "        hyperparameter_names=list(run.configspace.keys()),\n",
    "        objective_id=objective_id,\n",
    "        budget_ids=budget_ids,\n",
    "        method=\"global\",\n",
    "        n_hps=20,\n",
    "        n_trees=10,\n",
    "    )\n",
    "    # Note: Filter variables are not considered.\n",
    "    outputs = plugin.generate_outputs(run, inputs)\n",
    "\n",
    "    return outputs"
   ]
  },
  {
   "cell_type": "code",
   "execution_count": 16,
   "metadata": {},
   "outputs": [
    {
     "data": {
      "text/plain": [
       "{'momentum_reset': (0.0009069916513087389,\n",
       "  2.4361728254430334e-06,\n",
       "  0.0009069916513087389,\n",
       "  2.4361728254430334e-06),\n",
       " 'n_epochs': (0.0024102075655980703,\n",
       "  1.1777329206976594e-05,\n",
       "  0.0024102075655980703,\n",
       "  1.1777329206976594e-05),\n",
       " 'batch_size': (0.003430852423300266,\n",
       "  6.950879933253302e-05,\n",
       "  0.003430852423300266,\n",
       "  6.950879933253302e-05),\n",
       " 'ent_coef': (0.2417147252053644,\n",
       "  0.012888333446559892,\n",
       "  0.2417147252053644,\n",
       "  0.012888333446559892),\n",
       " 'learning_rate': (0.6906852512353009,\n",
       "  0.018048200066951143,\n",
       "  0.6906852512353009,\n",
       "  0.018048200066951143)}"
      ]
     },
     "execution_count": 16,
     "metadata": {},
     "output_type": "execute_result"
    }
   ],
   "source": [
    "outputs = evaluate_feature_importance(\"smac3_output/grow_once/grow_depth_once_results/0\", 0)[0]\n",
    "outputs"
   ]
  },
  {
   "cell_type": "code",
   "execution_count": 17,
   "metadata": {},
   "outputs": [
    {
     "data": {
      "text/plain": [
       "[('learning_rate',\n",
       "  (0.6906852512353009,\n",
       "   0.018048200066951143,\n",
       "   0.6906852512353009,\n",
       "   0.018048200066951143)),\n",
       " ('ent_coef',\n",
       "  (0.2417147252053644,\n",
       "   0.012888333446559892,\n",
       "   0.2417147252053644,\n",
       "   0.012888333446559892)),\n",
       " ('batch_size',\n",
       "  (0.003430852423300266,\n",
       "   6.950879933253302e-05,\n",
       "   0.003430852423300266,\n",
       "   6.950879933253302e-05)),\n",
       " ('n_epochs',\n",
       "  (0.0024102075655980703,\n",
       "   1.1777329206976594e-05,\n",
       "   0.0024102075655980703,\n",
       "   1.1777329206976594e-05)),\n",
       " ('momentum_reset',\n",
       "  (0.0009069916513087389,\n",
       "   2.4361728254430334e-06,\n",
       "   0.0009069916513087389,\n",
       "   2.4361728254430334e-06))]"
      ]
     },
     "execution_count": 17,
     "metadata": {},
     "output_type": "execute_result"
    }
   ],
   "source": [
    "outputs = sorted(outputs.items(), key=lambda x: x[1][0], reverse=True)\n",
    "outputs"
   ]
  },
  {
   "cell_type": "code",
   "execution_count": 19,
   "metadata": {},
   "outputs": [
    {
     "name": "stderr",
     "output_type": "stream",
     "text": [
      "/tmp/ipykernel_387990/2258036385.py:14: UserWarning: No artists with labels found to put in legend.  Note that artists whose label start with an underscore are ignored when legend() is called with no argument.\n",
      "  ax.legend(title=\"Model Type\", fontsize=12, title_fontsize=14, loc=\"center\", bbox_to_anchor=(0.5, -0.16), ncol=3)\n"
     ]
    }
   ],
   "source": [
    "importances = [item[1][0] for item in outputs]\n",
    "errors = [item[1][1] for item in outputs]\n",
    "features = [\"Learning Rate\", \"Entropy Coefficient\", \"Batch Size\", \"n Epochs\", \"Momentum Reset\"]\n",
    "\n",
    "cmap = plt.get_cmap(\"tab10\")  # Get the tab10 colormap\n",
    "colors = cmap(np.arange(len(features))) \n",
    "\n",
    "# Create the plot\n",
    "fig, ax = plt.subplots(figsize=(10, 6))\n",
    "ax.bar(features, importances, color=colors, yerr=errors, capsize=15, error_kw={'elinewidth': 2, 'capthick': 2, 'ecolor': 'black'})\n",
    "ax.set_xlabel(\"Features\")\n",
    "ax.set_ylabel(\"Importance\")\n",
    "ax.set_title(\"Feature Importances; Grow Width Once\", fontsize=18, fontweight=\"bold\")\n",
    "ax.legend(title=\"Model Type\", fontsize=12, title_fontsize=14, loc=\"center\", bbox_to_anchor=(0.5, -0.16), ncol=3)\n",
    "ax.grid(True, linestyle=\"--\", alpha=0.7)\n",
    "\n",
    "plt.savefig(\"plotting/minihack/grow_depth_once/grow_depth_once_feature_importances.png\", bbox_inches='tight')"
   ]
  },
  {
   "cell_type": "code",
   "execution_count": null,
   "metadata": {},
   "outputs": [],
   "source": []
  }
 ],
 "metadata": {
  "kernelspec": {
   "display_name": "deepcave",
   "language": "python",
   "name": "python3"
  },
  "language_info": {
   "codemirror_mode": {
    "name": "ipython",
    "version": 3
   },
   "file_extension": ".py",
   "mimetype": "text/x-python",
   "name": "python",
   "nbconvert_exporter": "python",
   "pygments_lexer": "ipython3",
   "version": "3.9.19"
  }
 },
 "nbformat": 4,
 "nbformat_minor": 2
}
