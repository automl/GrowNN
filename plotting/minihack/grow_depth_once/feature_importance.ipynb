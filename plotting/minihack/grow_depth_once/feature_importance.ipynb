{
 "cells": [
  {
   "cell_type": "code",
   "execution_count": 4,
   "metadata": {},
   "outputs": [],
   "source": [
    "from deepcave.runs.converters.smac3v2 import SMAC3v2Run\n",
    "from deepcave.plugins.hyperparameter.importances import Importances\n",
    "from matplotlib import pyplot as plt"
   ]
  },
  {
   "cell_type": "code",
   "execution_count": 5,
   "metadata": {},
   "outputs": [],
   "source": [
    "def evaluate_feature_importance(path_to_smac_run:str, objective_id:int):\n",
    "    run = SMAC3v2Run.from_path(path_to_smac_run)\n",
    "    objective_id = run.get_objective_ids()[objective_id]\n",
    "    budget_ids = run.get_budget_ids()\n",
    "\n",
    "    # Instantiate the plugin\n",
    "    plugin = Importances()\n",
    "    inputs = plugin.generate_inputs(\n",
    "        hyperparameter_names=list(run.configspace.keys()),\n",
    "        objective_id=objective_id,\n",
    "        budget_ids=budget_ids,\n",
    "        method=\"global\",\n",
    "        n_hps=20,\n",
    "        n_trees=10,\n",
    "    )\n",
    "    # Note: Filter variables are not considered.\n",
    "    outputs = plugin.generate_outputs(run, inputs)\n",
    "\n",
    "    # Finally, you can load the figure. Here, the filter variables play a role.\n",
    "    figure = plugin.load_outputs(run, inputs, outputs)\n",
    "    return figure"
   ]
  },
  {
   "cell_type": "code",
   "execution_count": 6,
   "metadata": {},
   "outputs": [],
   "source": [
    "figure = evaluate_feature_importance(\"smac3_output/grow_once/grow_depth_once_results/0\", 0)\n",
    "figure.write_image(\"plotting/minihack/grow_depth_once/net2deeper_importances.png\", scale=2.0)"
   ]
  }
 ],
 "metadata": {
  "kernelspec": {
   "display_name": "deepcave",
   "language": "python",
   "name": "python3"
  },
  "language_info": {
   "codemirror_mode": {
    "name": "ipython",
    "version": 3
   },
   "file_extension": ".py",
   "mimetype": "text/x-python",
   "name": "python",
   "nbconvert_exporter": "python",
   "pygments_lexer": "ipython3",
   "version": "3.9.19"
  }
 },
 "nbformat": 4,
 "nbformat_minor": 2
}
