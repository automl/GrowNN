{
 "cells": [
  {
   "cell_type": "code",
   "execution_count": 43,
   "metadata": {},
   "outputs": [],
   "source": [
    "from deepcave.runs.converters.smac3v2 import SMAC3v2Run\n",
    "from deepcave.plugins.hyperparameter.importances import Importances\n",
    "from matplotlib import pyplot as plt\n",
    "import seaborn as sns\n",
    "import pandas as pd\n",
    "import numpy as np"
   ]
  },
  {
   "cell_type": "code",
   "execution_count": 44,
   "metadata": {},
   "outputs": [],
   "source": [
    "def evaluate_feature_importance(path_to_smac_run:str, objective_id:int):\n",
    "    \"\"\"\n",
    "    Code adapted from https://github.com/automl/DeepCAVE/blob/main/examples/api/importances.py\n",
    "    \"\"\"\n",
    "    run = SMAC3v2Run.from_path(path_to_smac_run)\n",
    "    objective_id = run.get_objective_ids()[objective_id]\n",
    "    budget_ids = run.get_budget_ids()\n",
    "\n",
    "    # Instantiate the plugin\n",
    "    plugin = Importances()\n",
    "    inputs = plugin.generate_inputs(\n",
    "        hyperparameter_names=list(run.configspace.keys()),\n",
    "        objective_id=objective_id,\n",
    "        budget_ids=budget_ids,\n",
    "        method=\"global\",\n",
    "        n_hps=20,\n",
    "        n_trees=10,\n",
    "    )\n",
    "    # Note: Filter variables are not considered.\n",
    "    outputs = plugin.generate_outputs(run, inputs)\n",
    "\n",
    "    return outputs"
   ]
  },
  {
   "cell_type": "code",
   "execution_count": 45,
   "metadata": {},
   "outputs": [],
   "source": [
    "outputs = evaluate_feature_importance(\"smac3_output/grow_once/grow_with_once_noise_in_configspace/0\", 0)[0]"
   ]
  },
  {
   "cell_type": "code",
   "execution_count": 46,
   "metadata": {},
   "outputs": [
    {
     "data": {
      "text/plain": [
       "[('learning_rate',\n",
       "  (0.6845189583627619,\n",
       "   0.05868178611778061,\n",
       "   0.6845189583627619,\n",
       "   0.05868178611778061)),\n",
       " ('ent_coef',\n",
       "  (0.07274040022738897,\n",
       "   0.016264706096086247,\n",
       "   0.07274040022738897,\n",
       "   0.016264706096086247)),\n",
       " ('noise_level',\n",
       "  (0.03306886472718433,\n",
       "   0.0016551818703481745,\n",
       "   0.03306886472718433,\n",
       "   0.0016551818703481745)),\n",
       " ('n_epochs',\n",
       "  (0.029553324759990784,\n",
       "   0.006946218973257863,\n",
       "   0.029553324759990784,\n",
       "   0.006946218973257863)),\n",
       " ('momentum_reset',\n",
       "  (0.014707840781433789,\n",
       "   0.0008146347915968107,\n",
       "   0.014707840781433789,\n",
       "   0.0008146347915968107)),\n",
       " ('batch_size',\n",
       "  (0.004650269570486437,\n",
       "   0.00012540615961578725,\n",
       "   0.004650269570486437,\n",
       "   0.00012540615961578725))]"
      ]
     },
     "execution_count": 46,
     "metadata": {},
     "output_type": "execute_result"
    }
   ],
   "source": [
    "outputs = sorted(outputs.items(), key=lambda x: x[1][0], reverse=True)\n",
    "outputs"
   ]
  },
  {
   "cell_type": "code",
   "execution_count": 47,
   "metadata": {},
   "outputs": [
    {
     "name": "stderr",
     "output_type": "stream",
     "text": [
      "/tmp/ipykernel_385882/2126500359.py:14: UserWarning: No artists with labels found to put in legend.  Note that artists whose label start with an underscore are ignored when legend() is called with no argument.\n",
      "  ax.legend(title=\"Model Type\", fontsize=12, title_fontsize=14, loc=\"center\", bbox_to_anchor=(0.5, -0.16), ncol=3)\n"
     ]
    }
   ],
   "source": [
    "importances = [item[1][0] for item in outputs]\n",
    "errors = [item[1][1] for item in outputs]\n",
    "features = [\"Learning Rate\", \"Entropy Coefficient\", \"Noise Level\", \"Batch Size\", \"n Epochs\", \"Momentum Reset\"]\n",
    "\n",
    "cmap = plt.get_cmap(\"tab10\")  # Get the tab10 colormap\n",
    "colors = cmap(np.arange(len(features))) \n",
    "\n",
    "# Create the plot\n",
    "fig, ax = plt.subplots(figsize=(10, 6))\n",
    "ax.bar(features, importances, color=colors, yerr=errors, capsize=15, error_kw={'elinewidth': 2, 'capthick': 2, 'ecolor': 'black'})\n",
    "ax.set_xlabel(\"Features\")\n",
    "ax.set_ylabel(\"Importance\")\n",
    "ax.set_title(\"Feature Importances; Grow Width Once\", fontsize=18, fontweight=\"bold\")\n",
    "ax.legend(title=\"Model Type\", fontsize=12, title_fontsize=14, loc=\"center\", bbox_to_anchor=(0.5, -0.16), ncol=3)\n",
    "ax.grid(True, linestyle=\"--\", alpha=0.7)\n",
    "\n",
    "plt.savefig(\"plotting/minihack/grow_width_once/grow_width_once_feature_importances.png\", bbox_inches='tight')"
   ]
  }
 ],
 "metadata": {
  "kernelspec": {
   "display_name": "deepcave",
   "language": "python",
   "name": "python3"
  },
  "language_info": {
   "codemirror_mode": {
    "name": "ipython",
    "version": 3
   },
   "file_extension": ".py",
   "mimetype": "text/x-python",
   "name": "python",
   "nbconvert_exporter": "python",
   "pygments_lexer": "ipython3",
   "version": "3.9.19"
  }
 },
 "nbformat": 4,
 "nbformat_minor": 2
}
