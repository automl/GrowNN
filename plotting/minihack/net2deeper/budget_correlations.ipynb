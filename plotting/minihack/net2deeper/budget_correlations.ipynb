{
 "cells": [
  {
   "cell_type": "markdown",
   "metadata": {},
   "source": [
    "# Budget Correlations\n",
    "to generate the plots below, we utilize the library deepcave. Unfortunately it is incompatible with our processing environment, therefore a new environment has to be created, and used to exectue this code as explained in [the DeepCave documentation](https://automl.github.io/DeepCAVE/main/installation.html)"
   ]
  },
  {
   "cell_type": "code",
   "execution_count": 115,
   "metadata": {},
   "outputs": [],
   "source": [
    "from deepcave.runs.converters.smac3v2 import SMAC3v2Run\n",
    "from pathlib import Path\n",
    "from collections import defaultdict\n",
    "from deepcave.runs import Status\n",
    "import pandas as pd\n",
    "from scipy import stats"
   ]
  },
  {
   "cell_type": "code",
   "execution_count": 116,
   "metadata": {},
   "outputs": [],
   "source": [
    "def get_budget_correlations(run: SMAC3v2Run, objective_id: int):\n",
    "    budget_ids = run.get_budget_ids(include_combined=False)\n",
    "\n",
    "    # Add symmetric correlations; table ready\n",
    "    correlations_symmetric = defaultdict(dict)\n",
    "\n",
    "    correlations = defaultdict(dict)\n",
    "    for budget1_id in budget_ids:\n",
    "        budget1 = run.get_budget(budget1_id)\n",
    "        budget1_readable = run.get_budget(budget1_id, human=True)\n",
    "\n",
    "        for budget2_id in budget_ids:\n",
    "            budget2 = run.get_budget(budget2_id)\n",
    "            budget2_readable = run.get_budget(budget2_id, human=True)\n",
    "\n",
    "            config_ids1 = run.get_configs(budget1, statuses=[Status.SUCCESS]).keys()\n",
    "            config_ids2 = run.get_configs(budget2, statuses=[Status.SUCCESS]).keys()\n",
    "\n",
    "            # Combine config ids\n",
    "            # So it is guaranteed that there is the same number of configs for each budget\n",
    "            config_ids = set(config_ids1) & set(config_ids2)\n",
    "\n",
    "            c1, c2 = [], []\n",
    "            for config_id in config_ids:\n",
    "                c1 += [\n",
    "                    run.get_avg_costs(config_id, budget1, statuses=[Status.SUCCESS])[0][\n",
    "                        objective_id\n",
    "                    ]\n",
    "                ]\n",
    "                c2 += [\n",
    "                    run.get_avg_costs(config_id, budget2, statuses=[Status.SUCCESS])[0][\n",
    "                        objective_id\n",
    "                    ]\n",
    "                ]\n",
    "\n",
    "            correlation = round(stats.spearmanr(c1, c2).correlation, 2)\n",
    "            correlations_symmetric[\"Budget\"][budget2_readable] = budget2_readable  # type: ignore # noqa: E501\n",
    "            correlations_symmetric[budget1_readable][budget2_readable] = correlation  # type: ignore # noqa: E501\n",
    "\n",
    "            # Exclude if budget2 is higher than budget1\n",
    "            if budget2 > budget1:\n",
    "                continue\n",
    "\n",
    "            correlations[budget1_readable][budget2_readable] = correlation  # type: ignore\n",
    "    return correlations, correlations_symmetric"
   ]
  },
  {
   "cell_type": "code",
   "execution_count": 117,
   "metadata": {},
   "outputs": [],
   "source": [
    "example_run = SMAC3v2Run.from_path(Path(\"smac3_output/fehring_growing_nn_new_seeded/net2deeper_budget200_final/5/0\"))"
   ]
  },
  {
   "cell_type": "code",
   "execution_count": 118,
   "metadata": {},
   "outputs": [
    {
     "data": {
      "text/plain": [
       "(defaultdict(dict, {1.0: {1.0: 1.0}, 2.0: {1.0: 0.94, 2.0: 1.0}}),\n",
       " defaultdict(dict,\n",
       "             {'Budget': {1.0: 1.0, 2.0: 2.0},\n",
       "              1.0: {1.0: 1.0, 2.0: 0.94},\n",
       "              2.0: {1.0: 0.94, 2.0: 1.0}}))"
      ]
     },
     "execution_count": 118,
     "metadata": {},
     "output_type": "execute_result"
    }
   ],
   "source": [
    "get_budget_correlations(example_run, 0)"
   ]
  },
  {
   "cell_type": "code",
   "execution_count": 119,
   "metadata": {},
   "outputs": [],
   "source": [
    "experiments ={\n",
    "    1: \"Random; 4 layers\",\n",
    "    4: \"Random; 2 layers\",\n",
    "    6: \"Monster; 4 layers\",\n",
    "    5: \"Monster; 2 layers\"\n",
    "}\n",
    "dataframes: dict = {}"
   ]
  },
  {
   "cell_type": "code",
   "execution_count": 120,
   "metadata": {},
   "outputs": [],
   "source": [
    "for run_id, experiment in experiments.items():\n",
    "    run = SMAC3v2Run.from_path(Path(f\"smac3_output/fehring_growing_nn_new_seeded/net2deeper_budget200_final/{run_id}/0\"))\n",
    "    correlations, correlations_symmetric = get_budget_correlations(run, 0)\n",
    "    del correlations_symmetric[\"Budget\"]\n",
    "    dataframes[experiment] = pd.DataFrame(correlations_symmetric)"
   ]
  },
  {
   "cell_type": "code",
   "execution_count": 121,
   "metadata": {},
   "outputs": [
    {
     "data": {
      "text/html": [
       "<div>\n",
       "<style scoped>\n",
       "    .dataframe tbody tr th:only-of-type {\n",
       "        vertical-align: middle;\n",
       "    }\n",
       "\n",
       "    .dataframe tbody tr th {\n",
       "        vertical-align: top;\n",
       "    }\n",
       "\n",
       "    .dataframe thead th {\n",
       "        text-align: right;\n",
       "    }\n",
       "</style>\n",
       "<table border=\"1\" class=\"dataframe\">\n",
       "  <thead>\n",
       "    <tr style=\"text-align: right;\">\n",
       "      <th></th>\n",
       "      <th>1.0</th>\n",
       "      <th>2.0</th>\n",
       "    </tr>\n",
       "  </thead>\n",
       "  <tbody>\n",
       "    <tr>\n",
       "      <th>1.0</th>\n",
       "      <td>1.00</td>\n",
       "      <td>0.72</td>\n",
       "    </tr>\n",
       "    <tr>\n",
       "      <th>2.0</th>\n",
       "      <td>0.72</td>\n",
       "      <td>1.00</td>\n",
       "    </tr>\n",
       "  </tbody>\n",
       "</table>\n",
       "</div>"
      ],
      "text/plain": [
       "      1.0   2.0\n",
       "1.0  1.00  0.72\n",
       "2.0  0.72  1.00"
      ]
     },
     "execution_count": 121,
     "metadata": {},
     "output_type": "execute_result"
    }
   ],
   "source": [
    "dataframes[\"Random; 2 layers\"]\n"
   ]
  },
  {
   "cell_type": "code",
   "execution_count": 124,
   "metadata": {},
   "outputs": [
    {
     "name": "stdout",
     "output_type": "stream",
     "text": [
      "Random; 4 layers\n",
      "\\begin{table}\n",
      "\\caption{Correlation Matrix for Random; 4 layers}\n",
      "\\begin{tabular}{lrrrr}\n",
      "\\toprule\n",
      " & Budget 1 & Budget 2 & Budget 3 & Budget 4 \\\\\n",
      "\\midrule\n",
      "Budget 1 & 1.00 & 0.67 & 0.67 & 0.58 \\\\\n",
      "Budget 2 & 0.67 & 1.00 & 0.91 & 0.75 \\\\\n",
      "Budget 3 & 0.67 & 0.91 & 1.00 & 0.89 \\\\\n",
      "Budget 4 & 0.58 & 0.75 & 0.89 & 1.00 \\\\\n",
      "\\bottomrule\n",
      "\\end{tabular}\n",
      "\\end{table}\n",
      "\n",
      "Random; 2 layers\n",
      "\\begin{table}\n",
      "\\caption{Correlation Matrix for Random; 2 layers}\n",
      "\\begin{tabular}{lrr}\n",
      "\\toprule\n",
      " & Budget 1 & Budget 2 \\\\\n",
      "\\midrule\n",
      "Budget 1 & 1.00 & 0.72 \\\\\n",
      "Budget 2 & 0.72 & 1.00 \\\\\n",
      "\\bottomrule\n",
      "\\end{tabular}\n",
      "\\end{table}\n",
      "\n",
      "Monster; 4 layers\n",
      "\\begin{table}\n",
      "\\caption{Correlation Matrix for Monster; 4 layers}\n",
      "\\begin{tabular}{lrrrr}\n",
      "\\toprule\n",
      " & Budget 1 & Budget 2 & Budget 3 & Budget 4 \\\\\n",
      "\\midrule\n",
      "Budget 1 & 1.00 & 0.70 & 0.63 & 0.72 \\\\\n",
      "Budget 2 & 0.70 & 1.00 & 0.90 & 0.85 \\\\\n",
      "Budget 3 & 0.63 & 0.90 & 1.00 & 0.91 \\\\\n",
      "Budget 4 & 0.72 & 0.85 & 0.91 & 1.00 \\\\\n",
      "\\bottomrule\n",
      "\\end{tabular}\n",
      "\\end{table}\n",
      "\n",
      "Monster; 2 layers\n",
      "\\begin{table}\n",
      "\\caption{Correlation Matrix for Monster; 2 layers}\n",
      "\\begin{tabular}{lrr}\n",
      "\\toprule\n",
      " & Budget 1 & Budget 2 \\\\\n",
      "\\midrule\n",
      "Budget 1 & 1.00 & 0.94 \\\\\n",
      "Budget 2 & 0.94 & 1.00 \\\\\n",
      "\\bottomrule\n",
      "\\end{tabular}\n",
      "\\end{table}\n",
      "\n"
     ]
    }
   ],
   "source": [
    "for experiment, df in dataframes.items():\n",
    "    df.index.name = \"Budget\"\n",
    "    df.columns.name = \"Budget\"\n",
    "    if len(df) == 4:\n",
    "        df.index = [\"Budget 1\", \"Budget 2\", \"Budget 3\", \"Budget 4\"]\n",
    "        df.columns = [\"Budget 1\", \"Budget 2\", \"Budget 3\", \"Budget 4\"]\n",
    "    if len(df) == 2:\n",
    "        df.index = [\"Budget 1\", \"Budget 2\"]\n",
    "        df.columns = [\"Budget 1\", \"Budget 2\"]\n",
    "    latex_table = df.to_latex(index=True, header=True, float_format=\"%.2f\", caption=f\"Correlation Matrix for {experiment}\")\n",
    "    print(experiment)\n",
    "    print(latex_table)"
   ]
  },
  {
   "cell_type": "code",
   "execution_count": null,
   "metadata": {},
   "outputs": [],
   "source": []
  }
 ],
 "metadata": {
  "kernelspec": {
   "display_name": "rl-architectures",
   "language": "python",
   "name": "python3"
  },
  "language_info": {
   "codemirror_mode": {
    "name": "ipython",
    "version": 3
   },
   "file_extension": ".py",
   "mimetype": "text/x-python",
   "name": "python",
   "nbconvert_exporter": "python",
   "pygments_lexer": "ipython3",
   "version": "3.9.19"
  }
 },
 "nbformat": 4,
 "nbformat_minor": 2
}
